{
  "nbformat": 4,
  "nbformat_minor": 0,
  "metadata": {
    "colab": {
      "name": "Project 10.1.b: Data visualization.ipynb",
      "provenance": []
    },
    "kernelspec": {
      "name": "python3",
      "display_name": "Python 3"
    }
  },
  "cells": [
    {
      "cell_type": "markdown",
      "metadata": {
        "id": "xomPbfhyoz29",
        "colab_type": "text"
      },
      "source": [
        "Importing important libraries"
      ]
    },
    {
      "cell_type": "code",
      "metadata": {
        "id": "vEd7ikL4zLpT",
        "colab_type": "code",
        "colab": {}
      },
      "source": [
        "import matplotlib.pyplot as plt\n",
        "import pandas as pd\n"
      ],
      "execution_count": null,
      "outputs": []
    },
    {
      "cell_type": "markdown",
      "metadata": {
        "id": "LY3IM4ruo5mK",
        "colab_type": "text"
      },
      "source": [
        "Reading the datasets"
      ]
    },
    {
      "cell_type": "code",
      "metadata": {
        "id": "iLnoGjh6z1Sm",
        "colab_type": "code",
        "colab": {}
      },
      "source": [
        "df=pd.read_csv(\"/content/kolkataaugust.csv\")"
      ],
      "execution_count": null,
      "outputs": []
    },
    {
      "cell_type": "code",
      "metadata": {
        "id": "ehTWMcid0T0n",
        "colab_type": "code",
        "colab": {}
      },
      "source": [
        "df1=pd.read_csv(\"/content/mumbaiaugust.csv\")"
      ],
      "execution_count": null,
      "outputs": []
    },
    {
      "cell_type": "code",
      "metadata": {
        "id": "Jikb0cStnxpU",
        "colab_type": "code",
        "colab": {}
      },
      "source": [
        "df"
      ],
      "execution_count": null,
      "outputs": []
    },
    {
      "cell_type": "code",
      "metadata": {
        "id": "jUnq6Brv54p2",
        "colab_type": "code",
        "colab": {}
      },
      "source": [
        "df1"
      ],
      "execution_count": null,
      "outputs": []
    },
    {
      "cell_type": "markdown",
      "metadata": {
        "id": "Vdae6L6mn0Ac",
        "colab_type": "text"
      },
      "source": [
        "Plotting the line chart of Date vs High Temperature"
      ]
    },
    {
      "cell_type": "code",
      "metadata": {
        "id": "hJnUbXoA0WZa",
        "colab_type": "code",
        "colab": {}
      },
      "source": [
        "plt.plot(df['Date'],df['High_Temperature'])\n",
        "\n",
        "\n",
        "plt.title(\"Date vs High Temperature\",fontsize=20)\n",
        "plt.xlabel(\"Date\",fontsize=15)\n",
        "plt.ylabel(\"High Temp. in degree celcius\",fontsize=15)"
      ],
      "execution_count": null,
      "outputs": []
    },
    {
      "cell_type": "markdown",
      "metadata": {
        "id": "B-MOKoLgn93x",
        "colab_type": "text"
      },
      "source": [
        "Plotting the line chart of Date vs Low Temperature"
      ]
    },
    {
      "cell_type": "code",
      "metadata": {
        "id": "MWEL1qsw1s-P",
        "colab_type": "code",
        "colab": {}
      },
      "source": [
        "plt.plot(df['Date'],df['Low_Temperature'])\n",
        "\n",
        "\n",
        "plt.title(\"Date vs Low Temperature\",fontsize=20)\n",
        "plt.xlabel(\"Date\",fontsize=15)\n",
        "plt.ylabel(\"Low Temp. in degree celcius\",fontsize=15)"
      ],
      "execution_count": null,
      "outputs": []
    },
    {
      "cell_type": "markdown",
      "metadata": {
        "id": "NBIRPMteoFti",
        "colab_type": "text"
      },
      "source": [
        "Plotting the line chart of Date vs Precipitation"
      ]
    },
    {
      "cell_type": "code",
      "metadata": {
        "id": "3StVQLZN2bnF",
        "colab_type": "code",
        "colab": {}
      },
      "source": [
        "plt.plot(df['Date'],df['Precipitation'])\n",
        "\n",
        "\n",
        "plt.title(\"Date vs Precipitation\",fontsize=20)\n",
        "plt.xlabel(\"Date\",fontsize=15)\n",
        "plt.ylabel(\"Precipitation in mm\",fontsize=15)"
      ],
      "execution_count": null,
      "outputs": []
    },
    {
      "cell_type": "markdown",
      "metadata": {
        "id": "sWT3LF6JoM-U",
        "colab_type": "text"
      },
      "source": [
        "Plotting the line chart of Date vs High Temperature & Date vs Low Temperature\n",
        "\n"
      ]
    },
    {
      "cell_type": "code",
      "metadata": {
        "id": "D_Ad0hQB2nxZ",
        "colab_type": "code",
        "colab": {}
      },
      "source": [
        "plt.subplot(2,1,0)\n",
        "plt.plot(df['Date'],df['High_Temperature'])\n",
        "\n",
        "\n",
        "plt.title(\"Date vs High Temperature\",fontsize=20)\n",
        "plt.xlabel(\"Date\",fontsize=15)\n",
        "plt.ylabel(\"High Temp. in degree celcius\",fontsize=15)\n",
        "\n",
        "plt.show()\n",
        "\n",
        "\n",
        "\n",
        "plt.subplot(2,1,1)\n",
        "plt.plot(df['Date'],df['Low_Temperature'])\n",
        "\n",
        "\n",
        "plt.title(\"Date vs Low Temperature\",fontsize=20)\n",
        "plt.xlabel(\"Date\",fontsize=15)\n",
        "plt.ylabel(\"Low Temp. in degree celcius\",fontsize=15)\n",
        "\n",
        "plt.show()\n"
      ],
      "execution_count": null,
      "outputs": []
    },
    {
      "cell_type": "markdown",
      "metadata": {
        "id": "HPP0_wfJoVpA",
        "colab_type": "text"
      },
      "source": [
        "Plotting the line chart of Date vs Precipitation for Kolkata & Date vs Precipitation Mumbai.\n"
      ]
    },
    {
      "cell_type": "code",
      "metadata": {
        "id": "kFTMzVxG32Tf",
        "colab_type": "code",
        "colab": {}
      },
      "source": [
        "plt.subplot(2,1,1)\n",
        "plt.plot(df['Date'],df['Precipitation'])\n",
        "\n",
        "\n",
        "plt.title(\"Kolkata\",fontsize=20)\n",
        "plt.xlabel(\"Date\",fontsize=15)\n",
        "plt.ylabel(\"Precipitation\",fontsize=15)\n",
        "\n",
        "plt.show()\n",
        "\n",
        "\n",
        "\n",
        "plt.subplot(2,1,2)\n",
        "plt.plot(df1['Date'],df1['Precipitation'])\n",
        "\n",
        "\n",
        "plt.title(\"Mumbai\",fontsize=20)\n",
        "plt.xlabel(\"Date\",fontsize=15)\n",
        "plt.ylabel(\"Precipitation\",fontsize=15)\n",
        "\n",
        "plt.show()"
      ],
      "execution_count": null,
      "outputs": []
    }
  ]
}