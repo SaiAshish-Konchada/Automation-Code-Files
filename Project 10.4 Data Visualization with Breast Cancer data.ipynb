{
  "nbformat": 4,
  "nbformat_minor": 0,
  "metadata": {
    "colab": {
      "name": "Project 10. 4: Data Visualization with Breast Cancer data.ipynb",
      "provenance": [],
      "collapsed_sections": []
    },
    "kernelspec": {
      "name": "python3",
      "display_name": "Python 3"
    }
  },
  "cells": [
    {
      "cell_type": "code",
      "metadata": {
        "id": "WxbdHBqUqadm",
        "colab_type": "code",
        "colab": {}
      },
      "source": [
        "import pandas as pd\n",
        "b=pd.read_csv(\"/content/Breast_cancer_data.csv\")\n",
        "b"
      ],
      "execution_count": null,
      "outputs": []
    },
    {
      "cell_type": "markdown",
      "metadata": {
        "id": "Y5Hu3plKvfQ1",
        "colab_type": "text"
      },
      "source": [
        "Plotting the Heatmap"
      ]
    },
    {
      "cell_type": "code",
      "metadata": {
        "id": "B3k9sNzaqwdf",
        "colab_type": "code",
        "colab": {}
      },
      "source": [
        "import seaborn as sns\n",
        "sns.heatmap(b.corr(),annot=True)"
      ],
      "execution_count": null,
      "outputs": []
    },
    {
      "cell_type": "markdown",
      "metadata": {
        "id": "LoDUkoWcvhuJ",
        "colab_type": "text"
      },
      "source": [
        "Plotting the ScatterPlot between 'mean_radius' and 'mean_area'; segregating them on the basis of diagnosis."
      ]
    },
    {
      "cell_type": "code",
      "metadata": {
        "id": "HfntF2eOrODx",
        "colab_type": "code",
        "colab": {}
      },
      "source": [
        "sns.scatterplot('mean_radius','mean_area',hue='diagnosis',data=b)"
      ],
      "execution_count": null,
      "outputs": []
    },
    {
      "cell_type": "markdown",
      "metadata": {
        "id": "gVHZDM2Evx06",
        "colab_type": "text"
      },
      "source": [
        "Plotting the ScatterPlot between 'mean_radius' and 'mean_perimeter'; segregating them on the basis of diagnosis."
      ]
    },
    {
      "cell_type": "code",
      "metadata": {
        "id": "dASlsXw2v_JM",
        "colab_type": "code",
        "colab": {}
      },
      "source": [
        "sns.scatterplot('mean_radius','mean_perimeter',hue='diagnosis',data=b)"
      ],
      "execution_count": null,
      "outputs": []
    },
    {
      "cell_type": "markdown",
      "metadata": {
        "id": "Ko7AbJzyv1Pv",
        "colab_type": "text"
      },
      "source": [
        "Plotting the ScatterPlot between 'mean_perimeter' and 'mean_area'; segregating them on the basis of diagnosis."
      ]
    },
    {
      "cell_type": "code",
      "metadata": {
        "id": "QFPjUqzBwBtU",
        "colab_type": "code",
        "colab": {}
      },
      "source": [
        "sns.scatterplot('mean_perimeter','mean_area',hue='diagnosis',data=b)"
      ],
      "execution_count": null,
      "outputs": []
    },
    {
      "cell_type": "markdown",
      "metadata": {
        "id": "Oj4pWxMJv4br",
        "colab_type": "text"
      },
      "source": [
        "Plotting the ScatterPlot between 'mean_radius' and 'mean_smoothness'; segregating them on the basis of diagnosis."
      ]
    },
    {
      "cell_type": "code",
      "metadata": {
        "id": "5ldNV17FwEqh",
        "colab_type": "code",
        "colab": {}
      },
      "source": [
        "sns.scatterplot('mean_radius','mean_smoothness',hue='diagnosis',data=b)"
      ],
      "execution_count": null,
      "outputs": []
    },
    {
      "cell_type": "markdown",
      "metadata": {
        "id": "hCJrHXnEv60B",
        "colab_type": "text"
      },
      "source": [
        "Plotting the ScatterPlot between 'mean_radius' and 'mean_texture'; segregating them on the basis of diagnosis."
      ]
    },
    {
      "cell_type": "code",
      "metadata": {
        "id": "uScHx0lswH9m",
        "colab_type": "code",
        "colab": {}
      },
      "source": [
        "sns.scatterplot('mean_radius','mean_texture',hue='diagnosis',data=b)"
      ],
      "execution_count": null,
      "outputs": []
    },
    {
      "cell_type": "markdown",
      "metadata": {
        "id": "A1yTHbqcwQh3",
        "colab_type": "text"
      },
      "source": [
        "Plotting the boxPlot between 'mean_area' and diagnosis'"
      ]
    },
    {
      "cell_type": "code",
      "metadata": {
        "id": "FXFdJMTQw2yw",
        "colab_type": "code",
        "colab": {}
      },
      "source": [
        "sns.boxplot('diagnosis','mean_area',data=b)"
      ],
      "execution_count": null,
      "outputs": []
    },
    {
      "cell_type": "markdown",
      "metadata": {
        "id": "L-zS9l5SwZjX",
        "colab_type": "text"
      },
      "source": [
        "Plotting the boxPlot between 'mean_radius' and diagnosis'"
      ]
    },
    {
      "cell_type": "code",
      "metadata": {
        "id": "xEx4A9TMw4eY",
        "colab_type": "code",
        "colab": {}
      },
      "source": [
        "sns.boxplot('diagnosis','mean_radius',data=b)"
      ],
      "execution_count": null,
      "outputs": []
    },
    {
      "cell_type": "markdown",
      "metadata": {
        "id": "WOjB9tpawbUN",
        "colab_type": "text"
      },
      "source": [
        "Plotting the boxPlot between 'mean_perimeter' and diagnosis'"
      ]
    },
    {
      "cell_type": "code",
      "metadata": {
        "id": "q9qCNdgIw6Xo",
        "colab_type": "code",
        "colab": {}
      },
      "source": [
        "sns.boxplot('diagnosis','mean_perimeter',data=b)"
      ],
      "execution_count": null,
      "outputs": []
    },
    {
      "cell_type": "markdown",
      "metadata": {
        "id": "W9k8Vj7Nwg18",
        "colab_type": "text"
      },
      "source": [
        "Plotting the boxPlot between 'mean_texture' and diagnosis'"
      ]
    },
    {
      "cell_type": "code",
      "metadata": {
        "id": "tu6cC1BdwP1O",
        "colab_type": "code",
        "colab": {}
      },
      "source": [
        "sns.boxplot('diagnosis','mean_texture',data=b)"
      ],
      "execution_count": null,
      "outputs": []
    },
    {
      "cell_type": "markdown",
      "metadata": {
        "id": "X0mnU53KwkEI",
        "colab_type": "text"
      },
      "source": [
        "Plotting the boxPlot between 'mean_smoothness' and diagnosis'"
      ]
    },
    {
      "cell_type": "code",
      "metadata": {
        "id": "oXQKdfC_sQXQ",
        "colab_type": "code",
        "colab": {}
      },
      "source": [
        "sns.boxplot('diagnosis','mean_smoothness',data=b)"
      ],
      "execution_count": null,
      "outputs": []
    },
    {
      "cell_type": "code",
      "metadata": {
        "id": "D2xv1p7nti5l",
        "colab_type": "code",
        "colab": {}
      },
      "source": [
        ""
      ],
      "execution_count": null,
      "outputs": []
    }
  ]
}